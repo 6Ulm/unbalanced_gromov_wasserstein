{
 "cells": [
  {
   "cell_type": "markdown",
   "metadata": {},
   "source": [
    "# Conic Formulation of Unbalanced GW\n",
    "\n",
    "Implement the bi-linear programming formulation of unbalanced Gromov-Wasserstein."
   ]
  },
  {
   "cell_type": "code",
   "execution_count": 50,
   "metadata": {},
   "outputs": [
    {
     "ename": "ModuleNotFoundError",
     "evalue": "No module named 'progressbar'",
     "output_type": "error",
     "traceback": [
      "\u001b[0;31m---------------------------------------------------------------------------\u001b[0m",
      "\u001b[0;31mModuleNotFoundError\u001b[0m                       Traceback (most recent call last)",
      "\u001b[0;32m<ipython-input-50-0ee16158c68d>\u001b[0m in \u001b[0;36m<module>\u001b[0;34m\u001b[0m\n\u001b[1;32m      2\u001b[0m \u001b[0;32mimport\u001b[0m \u001b[0mmatplotlib\u001b[0m\u001b[0;34m.\u001b[0m\u001b[0mpyplot\u001b[0m \u001b[0;32mas\u001b[0m \u001b[0mplt\u001b[0m\u001b[0;34m\u001b[0m\u001b[0;34m\u001b[0m\u001b[0m\n\u001b[1;32m      3\u001b[0m \u001b[0;32mimport\u001b[0m \u001b[0mcvxpy\u001b[0m \u001b[0;32mas\u001b[0m \u001b[0mcp\u001b[0m\u001b[0;34m\u001b[0m\u001b[0;34m\u001b[0m\u001b[0m\n\u001b[0;32m----> 4\u001b[0;31m \u001b[0;32mimport\u001b[0m \u001b[0mprogressbar\u001b[0m\u001b[0;34m\u001b[0m\u001b[0;34m\u001b[0m\u001b[0m\n\u001b[0m",
      "\u001b[0;31mModuleNotFoundError\u001b[0m: No module named 'progressbar'"
     ]
    }
   ],
   "source": [
    "import numpy as np\n",
    "import matplotlib.pyplot as plt\n",
    "import cvxpy as cp\n",
    "import progressbar"
   ]
  },
  {
   "cell_type": "code",
   "execution_count": 4,
   "metadata": {},
   "outputs": [],
   "source": [
    "def distmat(x,y):\n",
    "    return np.sqrt( np.abs(np.sum(x**2,0)[:,None] + np.sum(y**2,0)[None,:] - 2*x.transpose().dot(y) ) )"
   ]
  },
  {
   "cell_type": "markdown",
   "metadata": {},
   "source": [
    "# Unbalanced Gromov-Wasserstein"
   ]
  },
  {
   "cell_type": "code",
   "execution_count": 42,
   "metadata": {},
   "outputs": [],
   "source": [
    "n = 6\n",
    "m = 5\n",
    "k = 10 # angle samples\n",
    "l = 11 "
   ]
  },
  {
   "cell_type": "code",
   "execution_count": 43,
   "metadata": {},
   "outputs": [],
   "source": [
    "normalize = lambda a: a/np.sum(a)\n",
    "# random histograms\n",
    "a = normalize(np.random.rand(n))\n",
    "b = normalize(np.random.rand(m))\n",
    "d = 2 # dimension\n",
    "x = np.random.rand(d,n)\n",
    "y = np.random.rand(d,m)"
   ]
  },
  {
   "cell_type": "code",
   "execution_count": 44,
   "metadata": {},
   "outputs": [],
   "source": [
    "DX = distmat(x,x)\n",
    "DY = distmat(y,y)"
   ]
  },
  {
   "cell_type": "markdown",
   "metadata": {},
   "source": [
    "Discretized radius on the cones. TODO: select wisely `rmax`"
   ]
  },
  {
   "cell_type": "code",
   "execution_count": 45,
   "metadata": {},
   "outputs": [],
   "source": [
    "rmax = np.sqrt( np.max(a) )\n",
    "smax = np.sqrt( np.max(b) )\n",
    "R = np.linspace(0,rmax,k)\n",
    "S = np.linspace(0,smax,l)"
   ]
  },
  {
   "cell_type": "markdown",
   "metadata": {},
   "source": [
    "Compute the GW kernel \n",
    "$$\n",
    "    K(x,r,x',r',y,s,y',s') \n",
    "    \\triangleq (rr')^2 + (ss')^2 - 2rr's' e^{ - |x-y|^2 /\\tau }\n",
    "$$"
   ]
  },
  {
   "cell_type": "code",
   "execution_count": 46,
   "metadata": {},
   "outputs": [
    {
     "data": {
      "text/plain": [
       "(6, 10, 5, 11)"
      ]
     },
     "execution_count": 46,
     "metadata": {},
     "output_type": "execute_result"
    }
   ],
   "source": [
    "tau = 1\n",
    "def GH(x,r,y,s): return r**2+s**2 - 2*r*s*np.exp( -np.abs(x-y)**2/(2*tau) )\n",
    "# form the 8D kernel (x,r,x',r' ; y,s, y',s')\n",
    "K = GH( DX[:,None,:,None, None,None,None,None], \\\n",
    "        R[None,:,None,None, None,None,None,None]*R[None,None,None,:, None,None,None,None], \\\n",
    "        DY[None,None,None,None, :,None,:,None], \\\n",
    "        S[None,None,None,None, None,:,None,None]*S[None,None,None,None, None,None,None,:])\n",
    "# operator to apply K to a matching alpha\n",
    "def apply_K(alpha):\n",
    "    return np.sum( K * alpha[None,None,:,:, None,None,:,:], (2,3,6,7), keepdims=True ).squeeze()\n",
    "# test\n",
    "alpha = np.random.rand( n,k, m,l )\n",
    "apply_K(alpha).shape"
   ]
  },
  {
   "cell_type": "markdown",
   "metadata": {},
   "source": [
    "Solve the conic GW problem, which is a bilinear non-convex problem, by alernating minimization\n",
    "$$\n",
    "    \\min_{\\alpha \\geq 0} \\{\n",
    "        \\langle K \\alpha, \\alpha \\rangle\n",
    "        :\n",
    "        \\sum_{k,j,\\ell} \\alpha_{i,k,j,l} r_{k}^2 = a_i, \n",
    "        \\sum_{i,k,\\ell} \\alpha_{i,k,j,l} s_{\\ell}^2 = b_j.         \n",
    "        \\}\n",
    "$$"
   ]
  },
  {
   "cell_type": "code",
   "execution_count": 48,
   "metadata": {},
   "outputs": [],
   "source": [
    "# CVXPY problem setup \n",
    "RR = np.tile(R, (n,1))\n",
    "SS = np.tile(S, (m,1))\n",
    "# variable\n",
    "alpha = cp.Variable((n*k,m*l))\n",
    "alpha1 = cp.Variable((n,k))\n",
    "alpha2 = cp.Variable((m,l))\n",
    "# constraints\n",
    "U = [0 <= alpha, \n",
    "        alpha1==cp.reshape(cp.sum(alpha, axis=1),(k,n)).T, \\\n",
    "        alpha2==cp.reshape(cp.sum(alpha, axis=0),(l,m)).T, \\\n",
    "        cp.sum( cp.multiply(alpha1, RR**2), 1)==a, \\\n",
    "        cp.sum( cp.multiply(alpha2, SS**2), 1)==b \\\n",
    "    ]"
   ]
  },
  {
   "cell_type": "code",
   "execution_count": 49,
   "metadata": {},
   "outputs": [],
   "source": [
    "# initialize matching\n",
    "Alpha = np.random.rand( n,k, m,l )\n",
    "Alpha = Alpha / np.sum(Alpha.flatten())\n",
    "# alternate minimization\n",
    "niter = 10\n",
    "for it in progressbar.progressbar(range(niter)):\n",
    "    C = apply_K(Alpha).reshape(n*k,m*l)\n",
    "    # solve using CVXPY\n",
    "    objective = cp.Minimize( cp.sum(cp.multiply(alpha,C)) )\n",
    "    prob = cp.Problem(objective, U)\n",
    "    result = prob.solve(verbose=False)\n",
    "    Alpha = alpha.value.reshape(n,k,m,l)"
   ]
  },
  {
   "cell_type": "code",
   "execution_count": null,
   "metadata": {},
   "outputs": [],
   "source": []
  }
 ],
 "metadata": {
  "kernelspec": {
   "display_name": "Python 3",
   "language": "python",
   "name": "python3"
  },
  "language_info": {
   "codemirror_mode": {
    "name": "ipython",
    "version": 3
   },
   "file_extension": ".py",
   "mimetype": "text/x-python",
   "name": "python",
   "nbconvert_exporter": "python",
   "pygments_lexer": "ipython3",
   "version": "3.7.1"
  }
 },
 "nbformat": 4,
 "nbformat_minor": 2
}
