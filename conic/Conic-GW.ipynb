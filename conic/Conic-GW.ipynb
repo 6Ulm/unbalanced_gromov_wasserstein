{
 "cells": [
  {
   "cell_type": "markdown",
   "metadata": {},
   "source": [
    "# Conic Formulation of Unbalanced GW\n",
    "\n",
    "Implement the bi-linear programming formulation of unbalanced Gromov-Wasserstein.\n",
    "\n",
    "_Warning:_ you need to install `progressbar2` apparently with `pip install progressbar2`. "
   ]
  },
  {
   "cell_type": "code",
   "execution_count": 1,
   "metadata": {},
   "outputs": [],
   "source": [
    "import numpy as np\n",
    "import matplotlib.pyplot as plt\n",
    "import cvxpy as cp\n",
    "import progressbar as pb"
   ]
  },
  {
   "cell_type": "code",
   "execution_count": 2,
   "metadata": {},
   "outputs": [],
   "source": [
    "def distmat(x,y):\n",
    "    return np.sqrt( np.abs(np.sum(x**2,0)[:,None] + np.sum(y**2,0)[None,:] - 2*x.transpose().dot(y) ) )\n",
    "\n",
    "def normalize(a):\n",
    "    return a/np.sum(a)"
   ]
  },
  {
   "cell_type": "markdown",
   "metadata": {},
   "source": [
    "# Conic Unbalanced Gromov-Wasserstein (CGW)\n",
    "\n",
    "## Generate data on ground space and conic coordinates"
   ]
  },
  {
   "cell_type": "code",
   "execution_count": 3,
   "metadata": {},
   "outputs": [],
   "source": [
    "# un-even size for debugging\n",
    "n = 6\n",
    "m = 5\n",
    "k = 10 # angle samples\n",
    "l = 11 \n",
    "\n",
    "# even size for production\n",
    "n = 6\n",
    "m = n\n",
    "# angle samples\n",
    "k = 10 \n",
    "l = k "
   ]
  },
  {
   "cell_type": "markdown",
   "metadata": {},
   "source": [
    "Generate two measures in $\\mathbb{R}^d$ to test the code."
   ]
  },
  {
   "cell_type": "code",
   "execution_count": 4,
   "metadata": {},
   "outputs": [],
   "source": [
    "# random histograms\n",
    "a = normalize(np.random.exponential(scale=1.0, size=n))\n",
    "b = normalize(np.random.exponential(scale=1.0, size=m))\n",
    "d = 2 # dimension\n",
    "x = np.random.rand(d,n)\n",
    "y = np.random.rand(d,m)"
   ]
  },
  {
   "cell_type": "markdown",
   "metadata": {},
   "source": [
    "Compute pairwise distance matrices $D_X(x,x') = \\|x-x'\\|_2$."
   ]
  },
  {
   "cell_type": "code",
   "execution_count": 5,
   "metadata": {},
   "outputs": [],
   "source": [
    "DX = distmat(x,x)\n",
    "DY = distmat(y,y)"
   ]
  },
  {
   "cell_type": "markdown",
   "metadata": {},
   "source": [
    "Discretized radius on the cones. *TODO:* select a larger radius since after the tested mass varies."
   ]
  },
  {
   "cell_type": "code",
   "execution_count": 6,
   "metadata": {},
   "outputs": [],
   "source": [
    "rmax = np.sqrt(np.max(np.concatenate((a,b))))\n",
    "R = np.linspace(0,rmax,k)\n",
    "S = np.linspace(0,rmax,l)"
   ]
  },
  {
   "cell_type": "markdown",
   "metadata": {},
   "source": [
    "## Computation of the conic kernel\n",
    "\n",
    "Compute the GW kernel (note that it is a 8D tensor).\n",
    "$$\n",
    "    K(x,r,x',r',y,s,y',s') \n",
    "    \\triangleq \\tau \\Big[ (rr')^2 + (ss')^2 - 2 r's' e^{ - \\frac{|D_X(x,x')-D_Y(y,y')|^2}{2\\tau} } \\Big]\n",
    "$$"
   ]
  },
  {
   "cell_type": "code",
   "execution_count": 7,
   "metadata": {},
   "outputs": [],
   "source": [
    "def GH(x,r,y,s,tau=1): return tau * ( r**2+s**2 - 2*r*s*np.exp( -np.abs(x-y)**2/(2*tau) ) )\n",
    "\n",
    "# form the 8D kernel (x,r,x',r' ; y,s, y',s')\n",
    "def CGW_Kernel(DX,DY,R,S,tau=1):\n",
    "    return GH( DX[:,None,:,None, None,None,None,None], \\\n",
    "        R[None,:,None,None, None,None,None,None]*R[None,None,None,:, None,None,None,None], \\\n",
    "        DY[None,None,None,None, :,None,:,None], \\\n",
    "        S[None,None,None,None, None,:,None,None]*S[None,None,None,None, None,None,None,:], \\\n",
    "        tau)\n",
    "\n",
    "# operator to apply K to a matching alpha, i.e. compute K*alpha\n",
    "def apply_K(K,alpha):\n",
    "    return np.sum( K * alpha[None,None,:,:, None,None,:,:], (2,3,6,7), keepdims=True ).squeeze()"
   ]
  },
  {
   "cell_type": "markdown",
   "metadata": {},
   "source": [
    "Generate a conic kernel with $\\tau=1$"
   ]
  },
  {
   "cell_type": "code",
   "execution_count": 8,
   "metadata": {},
   "outputs": [
    {
     "name": "stdout",
     "output_type": "stream",
     "text": [
      "Dimension of conic kernel = (6, 10, 6, 10)\n"
     ]
    }
   ],
   "source": [
    "tau = 1\n",
    "K = CGW_Kernel(DX,DY,R,S, tau)\n",
    "Alpha = np.random.exponential(scale=1.0, size=(n,k,m,l))\n",
    "print(f'Dimension of conic kernel = {apply_K(K,Alpha).shape}')"
   ]
  },
  {
   "cell_type": "markdown",
   "metadata": {},
   "source": [
    "Solve the conic GW problem, which is a bilinear non-convex problem, by alernating minimization\n",
    "$$\n",
    "    \\min_{\\alpha \\geq 0} \\{\n",
    "        \\langle K \\alpha, \\alpha \\rangle\n",
    "        :\n",
    "        \\sum_{k,j,\\ell} \\alpha_{i,k,j,l} r_{k}^2 = a_i, \n",
    "        \\sum_{i,k,\\ell} \\alpha_{i,k,j,l} s_{\\ell}^2 = b_j.         \n",
    "        \\}\n",
    "$$"
   ]
  },
  {
   "cell_type": "markdown",
   "metadata": {},
   "source": [
    "We first implement its linearized version, which is a conic unbalanced OT problem (CUW) associated to a 4-D cost tensor \n",
    "$$\n",
    "    \\min_{\\alpha \\geq 0} \\{\n",
    "        \\langle C, \\alpha \\rangle\n",
    "        :\n",
    "        \\sum_{k,j,\\ell} \\alpha_{i,k,j,l} r_{k}^2 = a_i, \n",
    "        \\sum_{i,k,\\ell} \\alpha_{i,k,j,l} s_{\\ell}^2 = b_j.         \n",
    "        \\}\n",
    "$$"
   ]
  },
  {
   "cell_type": "code",
   "execution_count": 9,
   "metadata": {},
   "outputs": [],
   "source": [
    "def Solve_CUW(C, R, S, n,k,m,l):\n",
    "    # CVXPY problem setup \n",
    "    RR = np.tile(R, (n,1))\n",
    "    SS = np.tile(S, (m,1))\n",
    "    # variable\n",
    "    alpha = cp.Variable((n*k,m*l))\n",
    "    alpha1 = cp.Variable((n,k))\n",
    "    alpha2 = cp.Variable((m,l))\n",
    "    # constraints\n",
    "    U = [0 <= alpha, \n",
    "            alpha1==cp.reshape(cp.sum(alpha, axis=1),(k,n)).T, \\\n",
    "            alpha2==cp.reshape(cp.sum(alpha, axis=0),(l,m)).T, \\\n",
    "            cp.sum( cp.multiply(alpha1, RR**2), 1)==a, \\\n",
    "            cp.sum( cp.multiply(alpha2, SS**2), 1)==b \\\n",
    "        ]\n",
    "    \n",
    "    C = C.reshape(n*k,m*l)\n",
    "    objective = cp.Minimize( cp.sum(cp.multiply(alpha,C)) )\n",
    "    prob = cp.Problem(objective, U)\n",
    "    result = prob.solve(verbose=False)\n",
    "    return alpha.value.reshape(n,k,m,l)"
   ]
  },
  {
   "cell_type": "markdown",
   "metadata": {},
   "source": [
    "We define the CGW solver which solves the problem by performing alternate descent and solves a sequence of CUW problems."
   ]
  },
  {
   "cell_type": "code",
   "execution_count": 10,
   "metadata": {},
   "outputs": [],
   "source": [
    "# alternate minimization\n",
    "def Solve_CGW(K, R, S, n,k,m,l, init, niter=10,verbose=True):\n",
    "    CGWcost = np.zeros(niter)\n",
    "    # initialize matching\n",
    "    Alpha = init\n",
    "    H = range(niter)\n",
    "    if verbose:\n",
    "        H = pb.progressbar(H)\n",
    "    for it in H:\n",
    "        Alpha = Solve_CUW( apply_K(K,Alpha), R, S, n,k,m,l )\n",
    "        CGWcost[it] = np.sum( apply_K(K,Alpha).flatten() * Alpha.flatten() )\n",
    "    return ( np.min(CGWcost.flatten()), CGWcost )"
   ]
  },
  {
   "cell_type": "markdown",
   "metadata": {},
   "source": [
    "We now solve the blinear problem by alternating minimization. "
   ]
  },
  {
   "cell_type": "code",
   "execution_count": 11,
   "metadata": {},
   "outputs": [
    {
     "name": "stderr",
     "output_type": "stream",
     "text": [
      "100% (7 of 7) |##########################| Elapsed Time: 0:00:00 Time:  0:00:00\n",
      "100% (7 of 7) |##########################| Elapsed Time: 0:00:00 Time:  0:00:00\n",
      "100% (7 of 7) |##########################| Elapsed Time: 0:00:00 Time:  0:00:00\n",
      "100% (7 of 7) |##########################| Elapsed Time: 0:00:00 Time:  0:00:00\n",
      "100% (7 of 7) |##########################| Elapsed Time: 0:00:00 Time:  0:00:00\n",
      "100% (7 of 7) |##########################| Elapsed Time: 0:00:00 Time:  0:00:00\n",
      "100% (7 of 7) |##########################| Elapsed Time: 0:00:00 Time:  0:00:00\n",
      "100% (7 of 7) |##########################| Elapsed Time: 0:00:00 Time:  0:00:00\n",
      "100% (7 of 7) |##########################| Elapsed Time: 0:00:00 Time:  0:00:00\n",
      "100% (7 of 7) |##########################| Elapsed Time: 0:00:00 Time:  0:00:00\n"
     ]
    },
    {
     "data": {
      "image/png": "[encoded data removed]",
      "text/plain": [
       "<Figure size 432x288 with 1 Axes>"
      ]
     },
     "metadata": {
      "needs_background": "light"
     },
     "output_type": "display_data"
    }
   ],
   "source": [
    "nruns = 10 # different initializations\n",
    "niter = 7\n",
    "\n",
    "CGWcost = np.zeros((niter,nruns))\n",
    "for kt in range(nruns):\n",
    "    init = np.random.exponential(scale=1.0, size=(n,k,m,l))\n",
    "    init = init / np.sum(init.flatten())\n",
    "    _, CGWcost[:, kt] = Solve_CGW(K, R, S, n,k,m,l, init, niter,nruns)\n",
    "plt.plot(CGWcost, '.-');"
   ]
  },
  {
   "cell_type": "markdown",
   "metadata": {},
   "source": [
    "TODO: find a way to convert a conic measure $\\alpha$ into a classical GW matching $\\pi$."
   ]
  },
  {
   "cell_type": "code",
   "execution_count": 12,
   "metadata": {},
   "outputs": [],
   "source": [
    "def dilation(x,r,y,s): return np.sqrt( r*s*np.exp( -abs(x-y)**2/(2*tau) ) )\n",
    "# eta = dilation( R[None,:,None,None], S[None,None,None,:], D[:,None,:,None] )\n",
    "# multiply by eta^2 and then marginalize on (x,y)\n",
    "# pi = np.sum( np.sum( Alpha * eta**2, 1, keepdims=True), 3, keepdims=True).squeeze()\n",
    "# plt.imshow(pi)"
   ]
  },
  {
   "cell_type": "markdown",
   "metadata": {},
   "source": [
    "# Compare with Unbalanced Gromov Wasserstein (UGW)\n",
    "We now consider the penalized fromulation\n",
    "$$\n",
    "    \\min_{\\pi \\geq 0} \\langle Q \\pi, \\pi \\rangle \n",
    "    + \\tau \\text{KL}^{\\otimes 2}(\\pi_1|a)\n",
    "    + \\tau \\text{KL}^{\\otimes 2}(\\pi_2|b)\n",
    "$$\n",
    "where the coupling is now $\\pi \\in \\mathbb{R}_+^{n \\times m}$ and the quadratic form is \n",
    "$$\n",
    "    Q((x,y),(x',y')) \\triangleq | D_X(x,x') - D_Y(y,y') |^2\n",
    "$$\n",
    "where the quadratic "
   ]
  },
  {
   "cell_type": "code",
   "execution_count": 13,
   "metadata": {},
   "outputs": [],
   "source": [
    "import sys\n",
    "sys.path.append(\"../\")\n",
    "import torch\n",
    "# from solver.vanilla_sinkhorn_solver import VanillaSinkhornSolver\n",
    "from solver.batch_stable_sinkhorn_solver import BatchStableSinkhornSolver\n",
    "from solver.utils import generate_measure\n",
    "torch.set_printoptions(8)\n",
    "import itertools"
   ]
  },
  {
   "cell_type": "markdown",
   "metadata": {},
   "source": [
    "We initialize the UGW solver. We consider a low level of entropy to approximate the unregularized problem."
   ]
  },
  {
   "cell_type": "code",
   "execution_count": 14,
   "metadata": {},
   "outputs": [],
   "source": [
    "epsilon, tau = 0.001, 1.\n",
    "# solv = VanillaSinkhornSolver(nits_plan=1, nits_sinkhorn=300, gradient=False, tol_plan=1e-5, tol_sinkhorn=1e-5,\n",
    "#                              eps=epsilon, rho=float(tau))\n",
    "solv = BatchStableSinkhornSolver(nits_plan=100, nits_sinkhorn=1000, gradient=False, tol_plan=1e-5, tol_sinkhorn=1e-5,\n",
    "                             eps=epsilon, rho=float(tau))"
   ]
  },
  {
   "cell_type": "markdown",
   "metadata": {},
   "source": [
    "We define the solver which casts the numpy data to solve the UGW problem with pytorch."
   ]
  },
  {
   "cell_type": "code",
   "execution_count": 15,
   "metadata": {},
   "outputs": [],
   "source": [
    "def Solve_UGW(DX,DY,a,b,init,verbose=True):\n",
    "    DX1 = torch.from_numpy(DX).type(torch.FloatTensor)\n",
    "    DY1 = torch.from_numpy(DY).type(torch.FloatTensor)\n",
    "    a1 = torch.from_numpy(a).type(torch.FloatTensor)\n",
    "    b1 = torch.from_numpy(b).type(torch.FloatTensor)\n",
    "    H = range(nruns)\n",
    "    if verbose:\n",
    "        H = pb.progressbar(H)\n",
    "    \n",
    "    pi0 = init\n",
    "    # For stable solver\n",
    "    pi = solv.ugw_sinkhorn(a1[None,:], DX1[None,:,:], b1[None,:], DY1[None,:,:], init=pi0[None,:,:])\n",
    "    cost = solv.ugw_cost(pi, pi, a1[None,:], DX1[None,:,:], b1[None,:], DY1[None,:,:])\n",
    "    return cost.item() - solv.eps * solv.quad_kl_div(pi, pi, a1[None,:, None] * b1[None, None, :]).item()"
   ]
  },
  {
   "cell_type": "code",
   "execution_count": 17,
   "metadata": {},
   "outputs": [
    {
     "name": "stdout",
     "output_type": "stream",
     "text": [
      "UCG = [0.0657342  0.06573453 0.06573897 0.06573916 0.06574657 0.0657466\n",
      " 0.06574878 0.07057607 0.07972521 0.0977394 ]\n",
      "CCG = [0.07480461 0.07480461 0.07480461 0.07480461 0.07480461 0.07480461\n",
      " 0.07932902 0.08003427 0.08038104 0.08038104]\n"
     ]
    }
   ],
   "source": [
    "law = torch.distributions.exponential.Exponential(torch.tensor([1.0]))\n",
    "UGWcost = np.zeros(nruns)\n",
    "for kt in range(nruns):\n",
    "    pi0 = law.sample((n,m)).reshape((n,m))\n",
    "    pi0 = pi0/torch.sum(pi0)\n",
    "    UGWcost[kt] = Solve_UGW(DX,DY,a,b,pi0,verbose=True)\n",
    "print( str('UCG = ') + str(np.sort( UGWcost )) )\n",
    "print( str('CCG = ') + str(np.sort( CGWcost[-1,:] )) )"
   ]
  },
  {
   "cell_type": "markdown",
   "metadata": {},
   "source": [
    "# Randomized tests"
   ]
  },
  {
   "cell_type": "markdown",
   "metadata": {},
   "source": [
    "*TODO:* impose a maximum value for the histograms in order to avoid going above the max radius of the cones."
   ]
  },
  {
   "cell_type": "code",
   "execution_count": 17,
   "metadata": {},
   "outputs": [
    {
     "name": "stderr",
     "output_type": "stream",
     "text": [
      "100% (20 of 20) |########################| Elapsed Time: 0:05:39 Time:  0:05:39\n"
     ]
    }
   ],
   "source": [
    "ntests = 20\n",
    "CGWcost = np.zeros(ntests)\n",
    "UGWcost = np.zeros(ntests)\n",
    "for kt in pb.progressbar(range(ntests)):\n",
    "    # generate random points\n",
    "    a = normalize(np.random.exponential(scale=1.0, size=n))\n",
    "    b = normalize(np.random.exponential(scale=1.0, size=m))\n",
    "    x = np.random.rand(d,n)\n",
    "    y = np.random.rand(d,m)\n",
    "    # associated kernel\n",
    "    DX = distmat(x,x)\n",
    "    DY = distmat(y,y)\n",
    "    rmax = np.sqrt(np.max(np.concatenate((a,b))))\n",
    "    R = np.linspace(0,rmax,k)\n",
    "    S = np.linspace(0,rmax,l)\n",
    "    K = CGW_Kernel(DX,DY,R,S)\n",
    "    \n",
    "    # run CGW and UGW over grid of init\n",
    "    cgw, ugw = np.zeros(nruns), np.zeros(nruns)\n",
    "    for it in range(nruns):\n",
    "        init = np.random.exponential(scale=1.0, size=(n,k,m,l))\n",
    "        init = init / np.sum(init.flatten())\n",
    "        cgw[it], _ = Solve_CGW(K,R, S, n,k,m,l, init, niter, verbose=False)\n",
    "        \n",
    "        law = torch.distributions.exponential.Exponential(torch.tensor([1.0]))\n",
    "        pi0 = law.sample((n,m)).reshape((n,m))\n",
    "        pi0 = pi0/torch.sum(pi0)\n",
    "        ugw[it] = Solve_UGW(DX,DY,a,b, pi0,verbose=False)\n",
    "        \n",
    "    CGWcost[kt], UGWcost[kt] = np.min(cgw), np.min(ugw)"
   ]
  },
  {
   "cell_type": "code",
   "execution_count": 18,
   "metadata": {},
   "outputs": [
    {
     "data": {
      "image/png": "[encoded data removed]",
      "text/plain": [
       "<Figure size 432x288 with 1 Axes>"
      ]
     },
     "metadata": {
      "needs_background": "light"
     },
     "output_type": "display_data"
    }
   ],
   "source": [
    "plt.plot( CGWcost / UGWcost, '.');"
   ]
  },
  {
   "cell_type": "code",
   "execution_count": 19,
   "metadata": {},
   "outputs": [
    {
     "data": {
      "image/png": "[encoded data removed]",
      "text/plain": [
       "<Figure size 432x288 with 1 Axes>"
      ]
     },
     "metadata": {
      "needs_background": "light"
     },
     "output_type": "display_data"
    }
   ],
   "source": [
    "plt.hist( CGWcost / UGWcost, np.linspace(0,1.2,12) );"
   ]
  },
  {
   "cell_type": "markdown",
   "metadata": {},
   "source": [
    "# Sanity checks\n",
    "\n",
    "## Control for distinguishing pairs of diracs"
   ]
  },
  {
   "cell_type": "code",
   "execution_count": 20,
   "metadata": {},
   "outputs": [
    {
     "name": "stdout",
     "output_type": "stream",
     "text": [
      "Theoretical value = [0.68466591] / CGWcost = 0.6849637583728259 / UGWcost = 0.6846803203895688\n"
     ]
    }
   ],
   "source": [
    "#Values\n",
    "n = 1\n",
    "m = 1\n",
    "k = 10 # angle samples\n",
    "l = 11 \n",
    "\n",
    "# generate random points and metrics\n",
    "a = (np.random.exponential(scale=1.0, size=n))\n",
    "b = (np.random.exponential(scale=1.0, size=m))\n",
    "x = np.random.rand(d,n)\n",
    "y = np.random.rand(d,m)\n",
    "DX = distmat(x,x)\n",
    "DY = distmat(y,y)\n",
    "\n",
    "# conic kernel\n",
    "rmax = np.sqrt(np.max(np.concatenate((a,b))))\n",
    "R = np.linspace(0,rmax,k)\n",
    "S = np.linspace(0,rmax,l)\n",
    "K = CGW_Kernel(DX,DY,R,S)\n",
    "\n",
    "# run CGW\n",
    "\n",
    "cgw, ugw = np.zeros(nruns), np.zeros(nruns)\n",
    "for it in range(nruns):\n",
    "    init = np.random.exponential(scale=1.0, size=(n,k,m,l))\n",
    "    init = init / np.sum(init.flatten())\n",
    "    cgw[it], _ = Solve_CGW(K,R, S, n,k,m,l, init, niter, verbose=False)\n",
    "\n",
    "    law = torch.distributions.exponential.Exponential(torch.tensor([1.0]))\n",
    "    pi0 = law.sample((n,m)).reshape((n,m))\n",
    "    pi0 = pi0/torch.sum(pi0)\n",
    "    ugw[it] = Solve_UGW(DX,DY,a,b, pi0,verbose=False)\n",
    "\n",
    "print(f\"Theoretical value = {(a-b)**2} / CGWcost = {np.min(cgw)} / UGWcost = {np.min(ugw)}\")"
   ]
  },
  {
   "cell_type": "markdown",
   "metadata": {},
   "source": [
    "## Observation for two pairs of dirac"
   ]
  },
  {
   "cell_type": "code",
   "execution_count": 21,
   "metadata": {},
   "outputs": [
    {
     "name": "stdout",
     "output_type": "stream",
     "text": [
      " CGWcost = 1.0368355518128287 / UGWcost = 1.0375791168212891\n"
     ]
    }
   ],
   "source": [
    "#Values\n",
    "n = 2\n",
    "m = 2\n",
    "k = 10 # angle samples\n",
    "l = 11 \n",
    "\n",
    "# generate random points and metrics\n",
    "d = 2\n",
    "a = (np.random.exponential(scale=1.0, size=n))\n",
    "b = (np.random.exponential(scale=1.0, size=m))\n",
    "x = np.random.rand(d,n)\n",
    "y = np.random.rand(d,m)\n",
    "DX = distmat(x,x)\n",
    "DY = distmat(y,y)\n",
    "\n",
    "# conic kernel\n",
    "rmax = np.sqrt(np.max(np.concatenate((a,b))))\n",
    "R = np.linspace(0,rmax,k)\n",
    "S = np.linspace(0,rmax,l)\n",
    "K = CGW_Kernel(DX,DY,R,S)\n",
    "\n",
    "# Number of random runs\n",
    "niter = 7\n",
    "nruns = 10\n",
    "\n",
    "# run CGW\n",
    "cgw, ugw = np.zeros(nruns), np.zeros(nruns)\n",
    "for it in range(nruns):\n",
    "    init = np.random.exponential(scale=1.0, size=(n,k,m,l))\n",
    "    init = init / np.sum(init.flatten())\n",
    "    cgw[it], _ = Solve_CGW(K,R, S, n,k,m,l, init, niter, verbose=False)\n",
    "\n",
    "    law = torch.distributions.exponential.Exponential(torch.tensor([1.0]))\n",
    "    pi0 = law.sample((n,m)).reshape((n,m))\n",
    "    pi0 = pi0/torch.sum(pi0)\n",
    "    ugw[it] = Solve_UGW(DX,DY,a,b, pi0,verbose=False)\n",
    "print(f\" CGWcost = {np.min(cgw)} / UGWcost = {np.min(ugw)}\")"
   ]
  },
  {
   "cell_type": "markdown",
   "metadata": {},
   "source": [
    "# Evolution of the comparison btw CGW/UGW when two mm-spaces gets further\n",
    "We take a set of samples $x$ and a measure $a$. We consider a perturbation $\\delta$ and compare $x$ with $x + \\epsilon\\delta$ while increasing progressively $\\epsilon$."
   ]
  },
  {
   "cell_type": "code",
   "execution_count": 32,
   "metadata": {},
   "outputs": [
    {
     "name": "stdout",
     "output_type": "stream",
     "text": [
      "n,k,m,l =  (4, 10, 4, 10)\n"
     ]
    },
    {
     "ename": "ValueError",
     "evalue": "x and y must have same first dimension, but have shapes (15,) and (3, 15)",
     "output_type": "error",
     "traceback": [
      "\u001b[0;31m---------------------------------------------------------------------------\u001b[0m",
      "\u001b[0;31mValueError\u001b[0m                                Traceback (most recent call last)",
      "\u001b[0;32m<ipython-input-32-42e56ebb95cf>\u001b[0m in \u001b[0;36m<module>\u001b[0;34m\u001b[0m\n\u001b[1;32m     63\u001b[0m \u001b[0;34m\u001b[0m\u001b[0m\n\u001b[1;32m     64\u001b[0m \u001b[0;31m# Plot results\u001b[0m\u001b[0;34m\u001b[0m\u001b[0;34m\u001b[0m\u001b[0;34m\u001b[0m\u001b[0m\n\u001b[0;32m---> 65\u001b[0;31m \u001b[0mplt\u001b[0m\u001b[0;34m.\u001b[0m\u001b[0mplot\u001b[0m\u001b[0;34m(\u001b[0m\u001b[0meps\u001b[0m\u001b[0;34m,\u001b[0m \u001b[0mval_cgw\u001b[0m\u001b[0;34m,\u001b[0m \u001b[0mlabel\u001b[0m\u001b[0;34m=\u001b[0m\u001b[0;34m'cgw'\u001b[0m\u001b[0;34m)\u001b[0m\u001b[0;34m\u001b[0m\u001b[0;34m\u001b[0m\u001b[0m\n\u001b[0m\u001b[1;32m     66\u001b[0m \u001b[0mplt\u001b[0m\u001b[0;34m.\u001b[0m\u001b[0mplot\u001b[0m\u001b[0;34m(\u001b[0m\u001b[0meps\u001b[0m\u001b[0;34m,\u001b[0m \u001b[0mval_ugw\u001b[0m\u001b[0;34m,\u001b[0m \u001b[0mlabel\u001b[0m\u001b[0;34m=\u001b[0m\u001b[0;34m'ugw'\u001b[0m\u001b[0;34m)\u001b[0m\u001b[0;34m\u001b[0m\u001b[0;34m\u001b[0m\u001b[0m\n\u001b[1;32m     67\u001b[0m \u001b[0mplt\u001b[0m\u001b[0;34m.\u001b[0m\u001b[0mlegend\u001b[0m\u001b[0;34m(\u001b[0m\u001b[0;34m)\u001b[0m\u001b[0;34m\u001b[0m\u001b[0;34m\u001b[0m\u001b[0m\n",
      "\u001b[0;32m~/anaconda3/lib/python3.8/site-packages/matplotlib/pyplot.py\u001b[0m in \u001b[0;36mplot\u001b[0;34m(scalex, scaley, data, *args, **kwargs)\u001b[0m\n\u001b[1;32m   2838\u001b[0m \u001b[0;34m@\u001b[0m\u001b[0m_copy_docstring_and_deprecators\u001b[0m\u001b[0;34m(\u001b[0m\u001b[0mAxes\u001b[0m\u001b[0;34m.\u001b[0m\u001b[0mplot\u001b[0m\u001b[0;34m)\u001b[0m\u001b[0;34m\u001b[0m\u001b[0;34m\u001b[0m\u001b[0m\n\u001b[1;32m   2839\u001b[0m \u001b[0;32mdef\u001b[0m \u001b[0mplot\u001b[0m\u001b[0;34m(\u001b[0m\u001b[0;34m*\u001b[0m\u001b[0margs\u001b[0m\u001b[0;34m,\u001b[0m \u001b[0mscalex\u001b[0m\u001b[0;34m=\u001b[0m\u001b[0;32mTrue\u001b[0m\u001b[0;34m,\u001b[0m \u001b[0mscaley\u001b[0m\u001b[0;34m=\u001b[0m\u001b[0;32mTrue\u001b[0m\u001b[0;34m,\u001b[0m \u001b[0mdata\u001b[0m\u001b[0;34m=\u001b[0m\u001b[0;32mNone\u001b[0m\u001b[0;34m,\u001b[0m \u001b[0;34m**\u001b[0m\u001b[0mkwargs\u001b[0m\u001b[0;34m)\u001b[0m\u001b[0;34m:\u001b[0m\u001b[0;34m\u001b[0m\u001b[0;34m\u001b[0m\u001b[0m\n\u001b[0;32m-> 2840\u001b[0;31m     return gca().plot(\n\u001b[0m\u001b[1;32m   2841\u001b[0m         \u001b[0;34m*\u001b[0m\u001b[0margs\u001b[0m\u001b[0;34m,\u001b[0m \u001b[0mscalex\u001b[0m\u001b[0;34m=\u001b[0m\u001b[0mscalex\u001b[0m\u001b[0;34m,\u001b[0m \u001b[0mscaley\u001b[0m\u001b[0;34m=\u001b[0m\u001b[0mscaley\u001b[0m\u001b[0;34m,\u001b[0m\u001b[0;34m\u001b[0m\u001b[0;34m\u001b[0m\u001b[0m\n\u001b[1;32m   2842\u001b[0m         **({\"data\": data} if data is not None else {}), **kwargs)\n",
      "\u001b[0;32m~/anaconda3/lib/python3.8/site-packages/matplotlib/axes/_axes.py\u001b[0m in \u001b[0;36mplot\u001b[0;34m(self, scalex, scaley, data, *args, **kwargs)\u001b[0m\n\u001b[1;32m   1741\u001b[0m         \"\"\"\n\u001b[1;32m   1742\u001b[0m         \u001b[0mkwargs\u001b[0m \u001b[0;34m=\u001b[0m \u001b[0mcbook\u001b[0m\u001b[0;34m.\u001b[0m\u001b[0mnormalize_kwargs\u001b[0m\u001b[0;34m(\u001b[0m\u001b[0mkwargs\u001b[0m\u001b[0;34m,\u001b[0m \u001b[0mmlines\u001b[0m\u001b[0;34m.\u001b[0m\u001b[0mLine2D\u001b[0m\u001b[0;34m)\u001b[0m\u001b[0;34m\u001b[0m\u001b[0;34m\u001b[0m\u001b[0m\n\u001b[0;32m-> 1743\u001b[0;31m         \u001b[0mlines\u001b[0m \u001b[0;34m=\u001b[0m \u001b[0;34m[\u001b[0m\u001b[0;34m*\u001b[0m\u001b[0mself\u001b[0m\u001b[0;34m.\u001b[0m\u001b[0m_get_lines\u001b[0m\u001b[0;34m(\u001b[0m\u001b[0;34m*\u001b[0m\u001b[0margs\u001b[0m\u001b[0;34m,\u001b[0m \u001b[0mdata\u001b[0m\u001b[0;34m=\u001b[0m\u001b[0mdata\u001b[0m\u001b[0;34m,\u001b[0m \u001b[0;34m**\u001b[0m\u001b[0mkwargs\u001b[0m\u001b[0;34m)\u001b[0m\u001b[0;34m]\u001b[0m\u001b[0;34m\u001b[0m\u001b[0;34m\u001b[0m\u001b[0m\n\u001b[0m\u001b[1;32m   1744\u001b[0m         \u001b[0;32mfor\u001b[0m \u001b[0mline\u001b[0m \u001b[0;32min\u001b[0m \u001b[0mlines\u001b[0m\u001b[0;34m:\u001b[0m\u001b[0;34m\u001b[0m\u001b[0;34m\u001b[0m\u001b[0m\n\u001b[1;32m   1745\u001b[0m             \u001b[0mself\u001b[0m\u001b[0;34m.\u001b[0m\u001b[0madd_line\u001b[0m\u001b[0;34m(\u001b[0m\u001b[0mline\u001b[0m\u001b[0;34m)\u001b[0m\u001b[0;34m\u001b[0m\u001b[0;34m\u001b[0m\u001b[0m\n",
      "\u001b[0;32m~/anaconda3/lib/python3.8/site-packages/matplotlib/axes/_base.py\u001b[0m in \u001b[0;36m__call__\u001b[0;34m(self, data, *args, **kwargs)\u001b[0m\n\u001b[1;32m    271\u001b[0m                 \u001b[0mthis\u001b[0m \u001b[0;34m+=\u001b[0m \u001b[0margs\u001b[0m\u001b[0;34m[\u001b[0m\u001b[0;36m0\u001b[0m\u001b[0;34m]\u001b[0m\u001b[0;34m,\u001b[0m\u001b[0;34m\u001b[0m\u001b[0;34m\u001b[0m\u001b[0m\n\u001b[1;32m    272\u001b[0m                 \u001b[0margs\u001b[0m \u001b[0;34m=\u001b[0m \u001b[0margs\u001b[0m\u001b[0;34m[\u001b[0m\u001b[0;36m1\u001b[0m\u001b[0;34m:\u001b[0m\u001b[0;34m]\u001b[0m\u001b[0;34m\u001b[0m\u001b[0;34m\u001b[0m\u001b[0m\n\u001b[0;32m--> 273\u001b[0;31m             \u001b[0;32myield\u001b[0m \u001b[0;32mfrom\u001b[0m \u001b[0mself\u001b[0m\u001b[0;34m.\u001b[0m\u001b[0m_plot_args\u001b[0m\u001b[0;34m(\u001b[0m\u001b[0mthis\u001b[0m\u001b[0;34m,\u001b[0m \u001b[0mkwargs\u001b[0m\u001b[0;34m)\u001b[0m\u001b[0;34m\u001b[0m\u001b[0;34m\u001b[0m\u001b[0m\n\u001b[0m\u001b[1;32m    274\u001b[0m \u001b[0;34m\u001b[0m\u001b[0m\n\u001b[1;32m    275\u001b[0m     \u001b[0;32mdef\u001b[0m \u001b[0mget_next_color\u001b[0m\u001b[0;34m(\u001b[0m\u001b[0mself\u001b[0m\u001b[0;34m)\u001b[0m\u001b[0;34m:\u001b[0m\u001b[0;34m\u001b[0m\u001b[0;34m\u001b[0m\u001b[0m\n",
      "\u001b[0;32m~/anaconda3/lib/python3.8/site-packages/matplotlib/axes/_base.py\u001b[0m in \u001b[0;36m_plot_args\u001b[0;34m(self, tup, kwargs)\u001b[0m\n\u001b[1;32m    397\u001b[0m \u001b[0;34m\u001b[0m\u001b[0m\n\u001b[1;32m    398\u001b[0m         \u001b[0;32mif\u001b[0m \u001b[0mx\u001b[0m\u001b[0;34m.\u001b[0m\u001b[0mshape\u001b[0m\u001b[0;34m[\u001b[0m\u001b[0;36m0\u001b[0m\u001b[0;34m]\u001b[0m \u001b[0;34m!=\u001b[0m \u001b[0my\u001b[0m\u001b[0;34m.\u001b[0m\u001b[0mshape\u001b[0m\u001b[0;34m[\u001b[0m\u001b[0;36m0\u001b[0m\u001b[0;34m]\u001b[0m\u001b[0;34m:\u001b[0m\u001b[0;34m\u001b[0m\u001b[0;34m\u001b[0m\u001b[0m\n\u001b[0;32m--> 399\u001b[0;31m             raise ValueError(f\"x and y must have same first dimension, but \"\n\u001b[0m\u001b[1;32m    400\u001b[0m                              f\"have shapes {x.shape} and {y.shape}\")\n\u001b[1;32m    401\u001b[0m         \u001b[0;32mif\u001b[0m \u001b[0mx\u001b[0m\u001b[0;34m.\u001b[0m\u001b[0mndim\u001b[0m \u001b[0;34m>\u001b[0m \u001b[0;36m2\u001b[0m \u001b[0;32mor\u001b[0m \u001b[0my\u001b[0m\u001b[0;34m.\u001b[0m\u001b[0mndim\u001b[0m \u001b[0;34m>\u001b[0m \u001b[0;36m2\u001b[0m\u001b[0;34m:\u001b[0m\u001b[0;34m\u001b[0m\u001b[0;34m\u001b[0m\u001b[0m\n",
      "\u001b[0;31mValueError\u001b[0m: x and y must have same first dimension, but have shapes (15,) and (3, 15)"
     ]
    },
    {
     "data": {
      "image/png": "[encoded data removed]",
      "text/plain": [
       "<Figure size 432x288 with 1 Axes>"
      ]
     },
     "metadata": {
      "needs_background": "light"
     },
     "output_type": "display_data"
    }
   ],
   "source": [
    "#Values\n",
    "n = 4\n",
    "m = n\n",
    "k = 10 # angle samples\n",
    "l = k\n",
    "print(\"n,k,m,l = \", (n,k,m,l))\n",
    "\n",
    "# generate random points and metrics\n",
    "d = 2\n",
    "a = (np.random.exponential(scale=1.0, size=n))\n",
    "b = a\n",
    "x = np.random.rand(d,n)\n",
    "delta = np.random.normal(size=(d,n))\n",
    "\n",
    "# Number of random runs\n",
    "niter = 7\n",
    "nruns = 20\n",
    "nsteps = 15\n",
    "eps = np.linspace(0,1,num=nsteps)\n",
    "tau = [0.1, 1.0, 10.]\n",
    "val_cgw, val_ugw = np.zeros((len(tau), nsteps)), np.zeros((len(tau), nsteps))\n",
    "for j in range(len(tau)):\n",
    "    for i in range(nsteps):\n",
    "        DX = distmat(x,x)\n",
    "        DY = distmat(x + eps[i] * delta, x + eps[i] * delta)\n",
    "\n",
    "        # conic kernel\n",
    "        rmax = np.sqrt(np.max(np.concatenate((a,b))))\n",
    "        R = np.linspace(0,rmax,k)\n",
    "        S = np.linspace(0,rmax,l)\n",
    "        K = CGW_Kernel(DX,DY,R,S, tau=tau[j])\n",
    "        solv.set_rho(tau[j])\n",
    "\n",
    "        # run CGW\n",
    "        cgw, ugw = np.zeros(2 * nruns + 1), np.zeros(2 * nruns + 1)\n",
    "        for it in range(nruns):\n",
    "            init = np.random.exponential(scale=1.0, size=(n,k,m,l))\n",
    "            init = init / np.sum(init.flatten())\n",
    "            cgw[it], _ = Solve_CGW(K,R, S, n,k,m,l, init, niter, verbose=False)\n",
    "\n",
    "            law = torch.distributions.exponential.Exponential(torch.tensor([1.0]))\n",
    "            pi0 = law.sample((n,m)).reshape((n,m))\n",
    "            pi0 = pi0/torch.sum(pi0)\n",
    "            ugw[it] = Solve_UGW(DX,DY,a,b, pi0,verbose=False)\n",
    "\n",
    "        for it in range(nruns):\n",
    "            init = np.eye(n)[np.random.permutation(n),:]\n",
    "            pi0 = torch.from_numpy(init).float()\n",
    "            init = np.tile(init[:,None,:,None], (1,k,1,l))\n",
    "            cgw[nruns + it], _ = Solve_CGW(K,R, S, n,k,m,l, init, niter, verbose=False)\n",
    "\n",
    "            ugw[nruns + it] = Solve_UGW(DX,DY,a,b, pi0,verbose=False)\n",
    "\n",
    "        init = np.eye(n)\n",
    "        pi0 = torch.from_numpy(init).float()\n",
    "        init = np.tile(init[:,None,:,None], (1,k,1,l))\n",
    "        cgw[-1], _ = Solve_CGW(K,R, S, n,k,m,l, init, niter, verbose=False)\n",
    "\n",
    "        ugw[-1] = Solve_UGW(DX,DY,a,b, pi0,verbose=False)\n",
    "\n",
    "        val_cgw[j, i] = np.min(cgw)\n",
    "        val_ugw[j, i] = np.min(ugw)\n",
    "\n",
    "# Plot results\n",
    "plt.plot(eps, val_cgw, label='cgw')\n",
    "plt.plot(eps, val_ugw, label='ugw')\n",
    "plt.legend()\n",
    "plt.show()"
   ]
  },
  {
   "cell_type": "markdown",
   "metadata": {},
   "source": [
    "We debias UGW which is strictly positive due to the adjunction of entropy. We remove the entropic regularization term."
   ]
  },
  {
   "cell_type": "code",
   "execution_count": 42,
   "metadata": {},
   "outputs": [
    {
     "data": {
      "image/png": "[encoded data removed]",
      "text/plain": [
       "<Figure size 432x288 with 1 Axes>"
      ]
     },
     "metadata": {
      "needs_background": "light"
     },
     "output_type": "display_data"
    }
   ],
   "source": [
    "# Plot results\n",
    "colors = ['r', 'b', 'g']\n",
    "for j in range(len(tau)):\n",
    "    plt.plot(eps, val_cgw[j], c=colors[j], label=f'CGW, $\\\\rho$={tau[j]}', linestyle='solid')\n",
    "    plt.plot(eps, val_ugw[j], c=colors[j], label=f'UGW, $\\\\rho$={tau[j]}', linestyle='dotted')\n",
    "plt.xlabel('shift t')\n",
    "plt.ylabel('loss')\n",
    "plt.legend()\n",
    "plt.show()"
   ]
  },
  {
   "cell_type": "code",
   "execution_count": 43,
   "metadata": {},
   "outputs": [
    {
     "data": {
      "image/png": "[encoded data removed]",
      "text/plain": [
       "<Figure size 432x288 with 1 Axes>"
      ]
     },
     "metadata": {
      "needs_background": "light"
     },
     "output_type": "display_data"
    }
   ],
   "source": [
    "# Plot results\n",
    "idx0 = 1\n",
    "for j in range(len(tau)):\n",
    "    plt.plot(eps[idx0:], (val_cgw[j] / val_ugw[j] )[idx0:], c=colors[j], label=f'$\\\\rho$={tau[j]}')\n",
    "plt.xlabel('shift t')\n",
    "plt.ylabel('ratio')\n",
    "plt.legend()\n",
    "plt.show()"
   ]
  },
  {
   "cell_type": "code",
   "execution_count": 45,
   "metadata": {},
   "outputs": [
    {
     "data": {
      "image/png": "[encoded data removed]",
      "text/plain": [
       "<Figure size 432x288 with 1 Axes>"
      ]
     },
     "metadata": {
      "needs_background": "light"
     },
     "output_type": "display_data"
    }
   ],
   "source": [
    "# Plot results\n",
    "colors = ['r', 'b', 'g']\n",
    "for j in range(len(tau)):\n",
    "    plt.plot(eps, val_cgw[j] / tau[j], c=colors[j], label=f'CGW, $\\\\rho$={tau[j]}', linestyle='solid')\n",
    "    plt.plot(eps, val_ugw[j] / tau[j], c=colors[j], label=f'UGW, $\\\\rho$={tau[j]}', linestyle='dotted')\n",
    "plt.xlabel('shift t')\n",
    "plt.ylabel('loss / $\\\\rho$')\n",
    "plt.legend()\n",
    "plt.show()"
   ]
  },
  {
   "cell_type": "markdown",
   "metadata": {},
   "source": [
    "# histogram of ratios"
   ]
  },
  {
   "cell_type": "code",
   "execution_count": 18,
   "metadata": {},
   "outputs": [
    {
     "name": "stderr",
     "output_type": "stream",
     "text": [
      "\r",
      "                                                                               \r",
      "\r",
      "N/A% (0 of 50) |                         | Elapsed Time: 0:00:00 ETA:  --:--:--"
     ]
    },
    {
     "name": "stdout",
     "output_type": "stream",
     "text": [
      "n,k,m,l =  (3, 10, 3, 10)\n"
     ]
    },
    {
     "name": "stderr",
     "output_type": "stream",
     "text": [
      "100% (50 of 50) |########################| Elapsed Time: 0:04:51 Time:  0:04:51\n",
      "100% (50 of 50) |########################| Elapsed Time: 0:12:51 Time:  0:12:51\n",
      "100% (50 of 50) |########################| Elapsed Time: 0:32:20 Time:  0:32:20\n"
     ]
    }
   ],
   "source": [
    "#Values\n",
    "n = 3\n",
    "m = n\n",
    "k = 10 # angle samples\n",
    "l = k\n",
    "print(\"n,k,m,l = \", (n,k,m,l))\n",
    "\n",
    "ntests = 50\n",
    "tau = [0.1, 1.0, 10.]\n",
    "CGWcost = np.zeros((len(tau), ntests))\n",
    "UGWcost = np.zeros((len(tau), ntests))\n",
    "for j in range(len(tau)):\n",
    "    for kt in pb.progressbar(range(ntests)):\n",
    "        # generate random points\n",
    "        a = normalize(np.random.exponential(scale=1.0, size=n))\n",
    "        b = normalize(np.random.exponential(scale=1.0, size=m))\n",
    "        x = np.random.rand(d,n)\n",
    "        y = np.random.rand(d,m)\n",
    "        # associated kernel\n",
    "        DX = distmat(x,x)\n",
    "        DY = distmat(y,y)\n",
    "        rmax = np.sqrt(np.max(np.concatenate((a,b))))\n",
    "        R = np.linspace(0,rmax,k)\n",
    "        S = np.linspace(0,rmax,l)\n",
    "        K = CGW_Kernel(DX,DY,R,S, tau=tau[j])\n",
    "\n",
    "        solv.set_rho(tau[j])\n",
    "\n",
    "        # run CGW\n",
    "        cgw, ugw = np.zeros(nruns + 6), np.zeros(nruns + 6)\n",
    "        for it in range(nruns):\n",
    "            init = np.random.exponential(scale=1.0, size=(n,k,m,l))\n",
    "            init = init / np.sum(init.flatten())\n",
    "            cgw[it], _ = Solve_CGW(K,R, S, n,k,m,l, init, niter, verbose=False)\n",
    "\n",
    "            law = torch.distributions.exponential.Exponential(torch.tensor([1.0]))\n",
    "            pi0 = law.sample((n,m)).reshape((n,m))\n",
    "            pi0 = pi0/torch.sum(pi0)\n",
    "            ugw[it] = Solve_UGW(DX,DY,a,b, pi0,verbose=False)\n",
    "\n",
    "        for it in range(6):\n",
    "            init = np.eye(n)[np.random.permutation(n),:]\n",
    "            pi0 = torch.from_numpy(init).float()\n",
    "            init = np.tile(init[:,None,:,None], (1,k,1,l))\n",
    "            cgw[nruns + it], _ = Solve_CGW(K,R, S, n,k,m,l, init, niter, verbose=False)\n",
    "\n",
    "            ugw[nruns + it] = Solve_UGW(DX,DY,a,b, pi0,verbose=False)\n",
    "\n",
    "        CGWcost[j, kt] = np.min(cgw)\n",
    "        UGWcost[j, kt] = np.min(ugw)"
   ]
  },
  {
   "cell_type": "code",
   "execution_count": 20,
   "metadata": {},
   "outputs": [
    {
     "data": {
      "image/png": "[encoded data removed]",
      "text/plain": [
       "<Figure size 432x288 with 1 Axes>"
      ]
     },
     "metadata": {
      "needs_background": "light"
     },
     "output_type": "display_data"
    }
   ],
   "source": [
    "idx = 0\n",
    "# Plot results\n",
    "colors = ['r', 'b', 'g']\n",
    "for j in range(len(tau)):\n",
    "    plt.hist( CGWcost[j] / UGWcost[j], np.linspace(0.5,1.2,60), alpha=0.5, label=f'$\\\\rho$={tau[j]}' )\n",
    "plt.xlabel('ratio UGW / CGW')\n",
    "plt.legend()\n",
    "plt.show()"
   ]
  },
  {
   "cell_type": "code",
   "execution_count": 24,
   "metadata": {},
   "outputs": [
    {
     "data": {
      "image/png": "[encoded data removed]",
      "text/plain": [
       "<Figure size 432x288 with 1 Axes>"
      ]
     },
     "metadata": {
      "needs_background": "light"
     },
     "output_type": "display_data"
    }
   ],
   "source": [
    "mask = (CGWcost / UGWcost) <= 1.0\n",
    "idx = 0\n",
    "# Plot results\n",
    "colors = ['r', 'b', 'g']\n",
    "for j in range(len(tau)):\n",
    "    plt.hist( CGWcost[j, mask[j]] / UGWcost[j, mask[j]], np.linspace(0.5,1.2,60), alpha=0.5, label=f'$\\\\rho$={tau[j]}' )\n",
    "plt.xlabel('ratio UGW / CGW')\n",
    "plt.legend()\n",
    "plt.show()"
   ]
  },
  {
   "cell_type": "code",
   "execution_count": 17,
   "metadata": {},
   "outputs": [
    {
     "name": "stderr",
     "output_type": "stream",
     "text": [
      "100% (50 of 50) |########################| Elapsed Time: 0:03:50 Time:  0:03:50\n",
      "100% (50 of 50) |########################| Elapsed Time: 0:04:49 Time:  0:04:49\n",
      "100% (50 of 50) |########################| Elapsed Time: 0:09:01 Time:  0:09:01\n"
     ]
    }
   ],
   "source": [
    "#Values\n",
    "n_list = [2,3,5]\n",
    "ntests = 50\n",
    "tau = 0.1\n",
    "solv.set_rho(tau)\n",
    "CGWcost = np.zeros((len(n_list), ntests))\n",
    "UGWcost = np.zeros((len(n_list), ntests))\n",
    "\n",
    "for j in range(len(n_list)):\n",
    "    n = n_list[j]\n",
    "    m = n\n",
    "    k = 10 # angle samples\n",
    "    l = k\n",
    "    for kt in pb.progressbar(range(ntests)):\n",
    "        # generate random points\n",
    "        a = normalize(np.random.exponential(scale=1.0, size=n))\n",
    "        b = normalize(np.random.exponential(scale=1.0, size=m))\n",
    "        x = np.random.rand(d,n)\n",
    "        y = np.random.rand(d,m)\n",
    "        # associated kernel\n",
    "        DX = distmat(x,x)\n",
    "        DY = distmat(y,y)\n",
    "        rmax = np.sqrt(np.max(np.concatenate((a,b))))\n",
    "        R = np.linspace(0,rmax,k)\n",
    "        S = np.linspace(0,rmax,l)\n",
    "        K = CGW_Kernel(DX,DY,R,S, tau=tau)\n",
    "\n",
    "\n",
    "\n",
    "        # run CGW\n",
    "        cgw, ugw = np.zeros(nruns + 6), np.zeros(nruns + 6)\n",
    "        for it in range(nruns):\n",
    "            init = np.random.exponential(scale=1.0, size=(n,k,m,l))\n",
    "            init = init / np.sum(init.flatten())\n",
    "            cgw[it], _ = Solve_CGW(K,R, S, n,k,m,l, init, niter, verbose=False)\n",
    "\n",
    "            law = torch.distributions.exponential.Exponential(torch.tensor([1.0]))\n",
    "            pi0 = law.sample((n,m)).reshape((n,m))\n",
    "            pi0 = pi0/torch.sum(pi0)\n",
    "            ugw[it] = Solve_UGW(DX,DY,a,b, pi0,verbose=False)\n",
    "\n",
    "        for it in range(6):\n",
    "            init = np.eye(n)[np.random.permutation(n),:]\n",
    "            pi0 = torch.from_numpy(init).float()\n",
    "            init = np.tile(init[:,None,:,None], (1,k,1,l))\n",
    "            cgw[nruns + it], _ = Solve_CGW(K,R, S, n,k,m,l, init, niter, verbose=False)\n",
    "\n",
    "            ugw[nruns + it] = Solve_UGW(DX,DY,a,b, pi0,verbose=False)\n",
    "\n",
    "        CGWcost[j, kt] = np.min(cgw)\n",
    "        UGWcost[j, kt] = np.min(ugw)"
   ]
  },
  {
   "cell_type": "code",
   "execution_count": 19,
   "metadata": {},
   "outputs": [
    {
     "data": {
      "image/png": "[encoded data removed]",
      "text/plain": [
       "<Figure size 432x288 with 1 Axes>"
      ]
     },
     "metadata": {
      "needs_background": "light"
     },
     "output_type": "display_data"
    }
   ],
   "source": [
    "idx = 0\n",
    "# Plot results\n",
    "colors = ['r', 'b', 'g']\n",
    "for j in range(len(n_list)):\n",
    "    plt.hist( CGWcost[j] / UGWcost[j], np.linspace(0.6,1.2,60), alpha=0.5, label=f'n={n_list[j]}' )\n",
    "plt.xlabel('ratio UGW / CGW')\n",
    "plt.legend()\n",
    "plt.show()"
   ]
  },
  {
   "cell_type": "code",
   "execution_count": null,
   "metadata": {},
   "outputs": [],
   "source": []
  }
 ],
 "metadata": {
  "kernelspec": {
   "display_name": "Python 3",
   "language": "python",
   "name": "python3"
  },
  "language_info": {
   "codemirror_mode": {
    "name": "ipython",
    "version": 3
   },
   "file_extension": ".py",
   "mimetype": "text/x-python",
   "name": "python",
   "nbconvert_exporter": "python",
   "pygments_lexer": "ipython3",
   "version": "3.8.8"
  }
 },
 "nbformat": 4,
 "nbformat_minor": 2
}
