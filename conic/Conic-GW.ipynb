{
 "cells": [
  {
   "cell_type": "markdown",
   "metadata": {},
   "source": [
    "# Conic Formulation of Unbalanced GW\n",
    "\n",
    "Implement the bi-linear programming formulation of unbalanced Gromov-Wasserstein.\n",
    "\n",
    "_Warning:_ you need to install `progressbar2` apparently with `pip install progressbar2`. "
   ]
  },
  {
   "cell_type": "code",
   "execution_count": 1,
   "metadata": {},
   "outputs": [],
   "source": [
    "import numpy as np\n",
    "import matplotlib.pyplot as plt\n",
    "import cvxpy as cp\n",
    "import progressbar as pb"
   ]
  },
  {
   "cell_type": "code",
   "execution_count": 2,
   "metadata": {},
   "outputs": [],
   "source": [
    "def distmat(x,y):\n",
    "    return np.sqrt( np.abs(np.sum(x**2,0)[:,None] + np.sum(y**2,0)[None,:] - 2*x.transpose().dot(y) ) )"
   ]
  },
  {
   "cell_type": "markdown",
   "metadata": {},
   "source": [
    "# Conic Unbalanced Gromov-Wasserstein (CGW)"
   ]
  },
  {
   "cell_type": "code",
   "execution_count": 3,
   "metadata": {},
   "outputs": [],
   "source": [
    "# un-even size for debugging\n",
    "n = 6\n",
    "m = 5\n",
    "k = 10 # angle samples\n",
    "l = 11 \n",
    "\n",
    "# even size for production\n",
    "n = 6\n",
    "m = n\n",
    "# angle samples\n",
    "k = 10 \n",
    "l = k "
   ]
  },
  {
   "cell_type": "markdown",
   "metadata": {},
   "source": [
    "Generate two measures in $\\mathbb{R}^d$ to test the code."
   ]
  },
  {
   "cell_type": "code",
   "execution_count": 4,
   "metadata": {},
   "outputs": [],
   "source": [
    "normalize = lambda a: a/np.sum(a)\n",
    "# random histograms\n",
    "a = normalize(np.random.rand(n))\n",
    "b = normalize(np.random.rand(m))\n",
    "d = 2 # dimension\n",
    "x = np.random.rand(d,n)\n",
    "y = np.random.rand(d,m)"
   ]
  },
  {
   "cell_type": "markdown",
   "metadata": {},
   "source": [
    "Compute pairwise distance matrices $D_X(x,x') = \\|x-x'\\|_2$."
   ]
  },
  {
   "cell_type": "code",
   "execution_count": 5,
   "metadata": {},
   "outputs": [],
   "source": [
    "DX = distmat(x,x)\n",
    "DY = distmat(y,y)"
   ]
  },
  {
   "cell_type": "markdown",
   "metadata": {},
   "source": [
    "Discretized radius on the cones. *TODO:* select a larger radius since after the tested mass varies."
   ]
  },
  {
   "cell_type": "code",
   "execution_count": 6,
   "metadata": {},
   "outputs": [],
   "source": [
    "# rmax = np.sqrt( np.max(a) )\n",
    "# smax = np.sqrt( np.max(b) )\n",
    "rmax = np.sqrt( np.sum(a) )\n",
    "smax = np.sqrt( np.sum(b) )\n",
    "R = np.linspace(0,rmax,k)\n",
    "S = np.linspace(0,smax,l)"
   ]
  },
  {
   "cell_type": "markdown",
   "metadata": {},
   "source": [
    "Compute the GW kernel \n",
    "$$\n",
    "    K(x,r,x',r',y,s,y',s') \n",
    "    \\triangleq \\tau \\Big[ (rr')^2 + (ss')^2 - 2 r's' e^{ - \\frac{|D_X(x,x')-D_Y(y,y')|^2}{2\\tau} } \\Big]\n",
    "$$"
   ]
  },
  {
   "cell_type": "code",
   "execution_count": 7,
   "metadata": {},
   "outputs": [
    {
     "data": {
      "text/plain": [
       "(6, 20, 6, 20)"
      ]
     },
     "execution_count": 7,
     "metadata": {},
     "output_type": "execute_result"
    }
   ],
   "source": [
    "tau = 1\n",
    "def GH(x,r,y,s): return tau * ( r**2+s**2 - 2*r*s*np.exp( -np.abs(x-y)**2/(2*tau) ) )\n",
    "# form the 8D kernel (x,r,x',r' ; y,s, y',s')\n",
    "def CGW_Kernel(DX,DY):\n",
    "    return GH( DX[:,None,:,None, None,None,None,None], \\\n",
    "        R[None,:,None,None, None,None,None,None]*R[None,None,None,:, None,None,None,None], \\\n",
    "        DY[None,None,None,None, :,None,:,None], \\\n",
    "        S[None,None,None,None, None,:,None,None]*S[None,None,None,None, None,None,None,:])\n",
    "# operator to apply K to a matching alpha, i.e. compute K*alpha\n",
    "def apply_K(K,alpha):\n",
    "    return np.sum( K * alpha[None,None,:,:, None,None,:,:], (2,3,6,7), keepdims=True ).squeeze()\n",
    "# test\n",
    "K = CGW_Kernel(DX,DY)\n",
    "Alpha = np.random.rand( n,k, m,l )\n",
    "apply_K(K,Alpha).shape"
   ]
  },
  {
   "cell_type": "markdown",
   "metadata": {},
   "source": [
    "Solve the conic GW problem, which is a bilinear non-convex problem, by alernating minimization\n",
    "$$\n",
    "    \\min_{\\alpha \\geq 0} \\{\n",
    "        \\langle K \\alpha, \\alpha \\rangle\n",
    "        :\n",
    "        \\sum_{k,j,\\ell} \\alpha_{i,k,j,l} r_{k}^2 = a_i, \n",
    "        \\sum_{i,k,\\ell} \\alpha_{i,k,j,l} s_{\\ell}^2 = b_j.         \n",
    "        \\}\n",
    "$$"
   ]
  },
  {
   "cell_type": "markdown",
   "metadata": {},
   "source": [
    "We first implement its linearized version, which is a conic unbalanced OT problem (CUW) associated to a 4-D cost tensor \n",
    "$$\n",
    "    \\min_{\\alpha \\geq 0} \\{\n",
    "        \\langle C, \\alpha \\rangle\n",
    "        :\n",
    "        \\sum_{k,j,\\ell} \\alpha_{i,k,j,l} r_{k}^2 = a_i, \n",
    "        \\sum_{i,k,\\ell} \\alpha_{i,k,j,l} s_{\\ell}^2 = b_j.         \n",
    "        \\}\n",
    "$$"
   ]
  },
  {
   "cell_type": "code",
   "execution_count": 8,
   "metadata": {},
   "outputs": [],
   "source": [
    "def Solve_CUW(C):\n",
    "    # CVXPY problem setup \n",
    "    RR = np.tile(R, (n,1))\n",
    "    SS = np.tile(S, (m,1))\n",
    "    # variable\n",
    "    alpha = cp.Variable((n*k,m*l))\n",
    "    alpha1 = cp.Variable((n,k))\n",
    "    alpha2 = cp.Variable((m,l))\n",
    "    # constraints\n",
    "    U = [0 <= alpha, \n",
    "            alpha1==cp.reshape(cp.sum(alpha, axis=1),(k,n)).T, \\\n",
    "            alpha2==cp.reshape(cp.sum(alpha, axis=0),(l,m)).T, \\\n",
    "            cp.sum( cp.multiply(alpha1, RR**2), 1)==a, \\\n",
    "            cp.sum( cp.multiply(alpha2, SS**2), 1)==b \\\n",
    "        ]\n",
    "    \n",
    "    C = C.reshape(n*k,m*l)\n",
    "    objective = cp.Minimize( cp.sum(cp.multiply(alpha,C)) )\n",
    "    prob = cp.Problem(objective, U)\n",
    "    result = prob.solve(verbose=False)\n",
    "    return alpha.value.reshape(n,k,m,l)"
   ]
  },
  {
   "cell_type": "markdown",
   "metadata": {},
   "source": [
    "We now solve the blinear problem by alternating minimization."
   ]
  },
  {
   "cell_type": "code",
   "execution_count": 9,
   "metadata": {},
   "outputs": [
    {
     "name": "stderr",
     "output_type": "stream",
     "text": [
      "100% (7 of 7) |##########################| Elapsed Time: 0:00:06 Time:  0:00:06\n",
      "100% (7 of 7) |##########################| Elapsed Time: 0:00:06 Time:  0:00:06\n",
      "100% (7 of 7) |##########################| Elapsed Time: 0:00:06 Time:  0:00:06\n",
      "100% (7 of 7) |##########################| Elapsed Time: 0:00:06 Time:  0:00:06\n",
      "100% (7 of 7) |##########################| Elapsed Time: 0:00:06 Time:  0:00:06\n"
     ]
    },
    {
     "data": {
      "image/png": "[encoded data removed]",
      "text/plain": [
       "<Figure size 432x288 with 1 Axes>"
      ]
     },
     "metadata": {
      "needs_background": "light"
     },
     "output_type": "display_data"
    }
   ],
   "source": [
    "# alternate minimization\n",
    "def Solve_CGW(K,niter=10,nruns=1,verbose=True):\n",
    "    CGWcost = np.zeros((niter,nruns))\n",
    "    for kt in range(nruns):\n",
    "        # initialize matching\n",
    "        Alpha = np.random.rand( n,k, m,l )\n",
    "        Alpha = Alpha / np.sum(Alpha.flatten())\n",
    "        H = range(niter)\n",
    "        if verbose:\n",
    "            H = pb.progressbar(H)\n",
    "        for it in H:\n",
    "            Alpha = Solve_CUW( apply_K(K,Alpha) )\n",
    "            CGWcost[it,kt] = np.sum( apply_K(K,Alpha).flatten() * Alpha.flatten() )\n",
    "    return ( np.min(CGWcost.flatten()), CGWcost )\n",
    "\n",
    "nruns = 5 # different initializations\n",
    "niter = 7\n",
    "cost,CGWcost = Solve_CGW(K,niter,nruns)\n",
    "plt.plot(CGWcost, '.-');"
   ]
  },
  {
   "cell_type": "markdown",
   "metadata": {},
   "source": [
    "TODO: find a way to convert a conic measure $\\alpha$ into a classical GW matching $\\pi$."
   ]
  },
  {
   "cell_type": "code",
   "execution_count": 10,
   "metadata": {},
   "outputs": [],
   "source": [
    "def dilation(x,r,y,s): return np.sqrt( r*s*np.exp( -abs(x-y)**2/(2*tau) ) )\n",
    "# eta = dilation( R[None,:,None,None], S[None,None,None,:], D[:,None,:,None] )\n",
    "# multiply by eta^2 and then marginalize on (x,y)\n",
    "# pi = np.sum( np.sum( Alpha * eta**2, 1, keepdims=True), 3, keepdims=True).squeeze()\n",
    "# plt.imshow(pi)"
   ]
  },
  {
   "cell_type": "markdown",
   "metadata": {},
   "source": [
    "# Compare with Unbalanced Gromov Wasserstein (UGW)\n",
    "We now consider the penalized fromulation\n",
    "$$\n",
    "    \\min_{\\pi \\geq 0} \\langle Q \\pi, \\pi \\rangle \n",
    "    + \\tau \\text{KL}^{\\otimes 2}(\\pi_1|a)\n",
    "    + \\tau \\text{KL}^{\\otimes 2}(\\pi_2|b)\n",
    "$$\n",
    "where the coupling is now $\\pi \\in \\mathbb{R}_+^{n \\times m}$ and the quadratic form is \n",
    "$$\n",
    "    Q((x,y),(x',y')) \\triangleq | D_X(x,x') - D_Y(y,y') |^2\n",
    "$$\n",
    "where the quadratic "
   ]
  },
  {
   "cell_type": "code",
   "execution_count": 11,
   "metadata": {},
   "outputs": [],
   "source": [
    "import sys\n",
    "sys.path.append(\"../\")\n",
    "import torch\n",
    "# from solver.vanilla_sinkhorn_solver import VanillaSinkhornSolver\n",
    "from solver.batch_stable_sinkhorn_solver import BatchStableSinkhornSolver\n",
    "from solver.utils import generate_measure\n",
    "torch.set_printoptions(8)\n",
    "import itertools"
   ]
  },
  {
   "cell_type": "code",
   "execution_count": 12,
   "metadata": {},
   "outputs": [],
   "source": [
    "epsilon = 0.01\n",
    "# solv = VanillaSinkhornSolver(nits_plan=1, nits_sinkhorn=300, gradient=False, tol_plan=1e-5, tol_sinkhorn=1e-5,\n",
    "#                              eps=epsilon, rho=float(tau))\n",
    "solv = BatchStableSinkhornSolver(nits_plan=1, nits_sinkhorn=300, gradient=False, tol_plan=1e-5, tol_sinkhorn=1e-5,\n",
    "                             eps=epsilon, rho=float(tau))\n",
    "def Solve_UGW(DX,DY,a,b,nruns=5,verbose=True):\n",
    "    DX1 = torch.from_numpy(DX).type(torch.FloatTensor)\n",
    "    DY1 = torch.from_numpy(DY).type(torch.FloatTensor)\n",
    "    a1 = torch.from_numpy(a).type(torch.FloatTensor)\n",
    "    b1 = torch.from_numpy(b).type(torch.FloatTensor)\n",
    "    UGWcost = np.zeros(nruns)\n",
    "    H = range(nruns)\n",
    "    if verbose:\n",
    "        H = pb.progressbar(H)            \n",
    "    for kt in H:\n",
    "        pi0 = torch.rand((n,m))\n",
    "        pi0 = pi0/torch.sum(pi0)\n",
    "    \n",
    "#         # For vanilla solver\n",
    "#         pi,gamma = solv.alternate_sinkhorn(a1[None,:], DX1[None,:,:], b1[None,:], DY1[None,:,:], init=pi0[None,:,:])\n",
    "#         UGWcost[kt] = solv.ugw_cost(pi, gamma, a1, DX1, b1, DY1)\n",
    "\n",
    "        # For stable solver\n",
    "        pi = solv.ugw_sinkhorn(a1[None,:], DX1[None,:,:], b1[None,:], DY1[None,:,:], init=pi0[None,:,:])\n",
    "        UGWcost[kt] = solv.ugw_cost(pi, pi, a1[None,:], DX1[None,:,:], b1[None,:], DY1[None,:,:]).item()\n",
    "        \n",
    "    UGWcost_no_nan = UGWcost[~np.isnan(UGWcost)]\n",
    "    if UGWcost_no_nan.size==0:\n",
    "        cost = np.nan\n",
    "    else:\n",
    "        cost = np.min(UGWcost_no_nan)\n",
    "    return (cost , UGWcost ) # np.min(UGWcost[~np.isnan(UGWcost)])"
   ]
  },
  {
   "cell_type": "code",
   "execution_count": 13,
   "metadata": {},
   "outputs": [
    {
     "name": "stderr",
     "output_type": "stream",
     "text": [
      "100% (5 of 5) |##########################| Elapsed Time: 0:00:00 Time:  0:00:00\n"
     ]
    },
    {
     "name": "stdout",
     "output_type": "stream",
     "text": [
      "UCG = [0.11604803 0.12773523 0.12838668 0.12941521 0.13782501]\n",
      "CCG = [0.06938225 0.07003395 0.07003395 0.07003395 0.07017164]\n"
     ]
    }
   ],
   "source": [
    "cost, UGWcost = Solve_UGW(DX,DY,a,b,nruns,verbose=True)\n",
    "print( str('UCG = ') + str(np.sort( UGWcost )) )\n",
    "print( str('CCG = ') + str(np.sort( CGWcost[-1,:] )) )"
   ]
  },
  {
   "cell_type": "markdown",
   "metadata": {},
   "source": [
    "# Randomized tests"
   ]
  },
  {
   "cell_type": "markdown",
   "metadata": {},
   "source": [
    "*TODO:* impose a maximum value for the histograms in order to avoid going above the max radius of the cones."
   ]
  },
  {
   "cell_type": "code",
   "execution_count": 14,
   "metadata": {},
   "outputs": [
    {
     "name": "stderr",
     "output_type": "stream",
     "text": [
      "100% (20 of 20) |########################| Elapsed Time: 0:10:31 Time:  0:10:31\n"
     ]
    }
   ],
   "source": [
    "ntests = 20\n",
    "CGWcost = np.zeros(ntests)\n",
    "UGWcost = np.zeros(ntests)\n",
    "for kt in pb.progressbar(range(ntests)):\n",
    "    # generate random points\n",
    "    a = normalize(np.random.rand(n))\n",
    "    b = normalize(np.random.rand(m))\n",
    "    x = np.random.rand(d,n)\n",
    "    y = np.random.rand(d,m)\n",
    "    # associated kernel\n",
    "    DX = distmat(x,x)\n",
    "    DY = distmat(y,y)\n",
    "    K = CGW_Kernel(DX,DY)\n",
    "    # run CGW\n",
    "    CGWcost[kt],CGWcost_list = Solve_CGW(K,niter,nruns,verbose=False)    \n",
    "    UGWcost[kt],UGWcost_list = Solve_UGW(DX,DY,a,b,nruns,verbose=False)"
   ]
  },
  {
   "cell_type": "code",
   "execution_count": 15,
   "metadata": {},
   "outputs": [
    {
     "data": {
      "image/png": "[encoded data removed]",
      "text/plain": [
       "<Figure size 432x288 with 1 Axes>"
      ]
     },
     "metadata": {
      "needs_background": "light"
     },
     "output_type": "display_data"
    }
   ],
   "source": [
    "plt.plot( CGWcost / UGWcost, '.');"
   ]
  },
  {
   "cell_type": "code",
   "execution_count": 16,
   "metadata": {},
   "outputs": [
    {
     "data": {
      "image/png": "[encoded data removed]",
      "text/plain": [
       "<Figure size 432x288 with 1 Axes>"
      ]
     },
     "metadata": {
      "needs_background": "light"
     },
     "output_type": "display_data"
    }
   ],
   "source": [
    "plt.hist( CGWcost / UGWcost, np.linspace(0,1.2,12) );"
   ]
  },
  {
   "cell_type": "markdown",
   "metadata": {},
   "source": [
    "# Sanity checks\n",
    "\n",
    "## Control for distinguishing pairs of diracs"
   ]
  },
  {
   "cell_type": "code",
   "execution_count": 20,
   "metadata": {},
   "outputs": [
    {
     "name": "stdout",
     "output_type": "stream",
     "text": [
      "Theoretical value = [0.23137823] / CGWcost = 0.23137823005634664 / UGWcost = 0.23263898491859436\n"
     ]
    }
   ],
   "source": [
    "#Values\n",
    "n = 1\n",
    "m = 1\n",
    "k = 10 # angle samples\n",
    "l = 11 \n",
    "\n",
    "# generate random points and metrics\n",
    "a = (np.random.rand(n))\n",
    "b = (np.random.rand(m))\n",
    "x = np.random.rand(d,n)\n",
    "y = np.random.rand(d,m)\n",
    "DX = distmat(x,x)\n",
    "DY = distmat(y,y)\n",
    "\n",
    "# conic kernel\n",
    "rmax = np.sqrt( np.sum(a) )\n",
    "smax = np.sqrt( np.sum(b) )\n",
    "R = np.linspace(0,rmax,k)\n",
    "S = np.linspace(0,smax,l)\n",
    "K = CGW_Kernel(DX,DY)\n",
    "\n",
    "# run CGW\n",
    "CGWcost,CGWcost_list = Solve_CGW(K,niter,nruns,verbose=False)    \n",
    "UGWcost,UGWcost_list = Solve_UGW(DX,DY,a,b,nruns,verbose=False)\n",
    "print(f\"Theoretical value = {(a-b)**2} / CGWcost = {CGWcost} / UGWcost = {UGWcost}\")"
   ]
  },
  {
   "cell_type": "markdown",
   "metadata": {},
   "source": [
    "## Observation for two pairs of dirac"
   ]
  },
  {
   "cell_type": "code",
   "execution_count": 37,
   "metadata": {},
   "outputs": [
    {
     "name": "stdout",
     "output_type": "stream",
     "text": [
      " CGWcost = 0.01936883454236666 / UGWcost = 0.03181218355894089\n"
     ]
    }
   ],
   "source": [
    "#Values\n",
    "n = 2\n",
    "m = 2\n",
    "k = 10 # angle samples\n",
    "l = 11 \n",
    "\n",
    "# generate random points and metrics\n",
    "a = (np.random.rand(n))\n",
    "b = (np.random.rand(m))\n",
    "x = np.random.rand(d,n)\n",
    "y = np.random.rand(d,m)\n",
    "DX = distmat(x,x)\n",
    "DY = distmat(y,y)\n",
    "\n",
    "# conic kernel\n",
    "rmax = np.sqrt( np.sum(a) )\n",
    "smax = np.sqrt( np.sum(b) )\n",
    "R = np.linspace(0,rmax,k)\n",
    "S = np.linspace(0,smax,l)\n",
    "K = CGW_Kernel(DX,DY)\n",
    "\n",
    "# run CGW\n",
    "CGWcost,CGWcost_list = Solve_CGW(K,niter,nruns,verbose=False)\n",
    "UGWcost,UGWcost_list = Solve_UGW(DX,DY,a,b,nruns,verbose=False)\n",
    "print(f\" CGWcost = {CGWcost} / UGWcost = {UGWcost}\")"
   ]
  },
  {
   "cell_type": "code",
   "execution_count": null,
   "metadata": {},
   "outputs": [],
   "source": []
  }
 ],
 "metadata": {
  "kernelspec": {
   "display_name": "Python 3",
   "language": "python",
   "name": "python3"
  },
  "language_info": {
   "codemirror_mode": {
    "name": "ipython",
    "version": 3
   },
   "file_extension": ".py",
   "mimetype": "text/x-python",
   "name": "python",
   "nbconvert_exporter": "python",
   "pygments_lexer": "ipython3",
   "version": "3.8.8"
  }
 },
 "nbformat": 4,
 "nbformat_minor": 2
}
